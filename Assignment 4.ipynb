{
 "cells": [
  {
   "cell_type": "code",
   "execution_count": 1,
   "metadata": {},
   "outputs": [],
   "source": [
    "import pandas as pd\n",
    "import numpy as np\n",
    "import seaborn as sns\n",
    "import matplotlib.pyplot as plt\n",
    "from sklearn import linear_model\n",
    "from sklearn.model_selection import train_test_split\n",
    "from sklearn.linear_model import LinearRegression"
   ]
  },
  {
   "cell_type": "code",
   "execution_count": 2,
   "metadata": {},
   "outputs": [
    {
     "name": "stdout",
     "output_type": "stream",
     "text": [
      "C:\\Users\\user\\Documents\\Assignment 3\n"
     ]
    }
   ],
   "source": [
    "cd C:\\Users\\user\\Documents\\Assignment 3"
   ]
  },
  {
   "cell_type": "code",
   "execution_count": 3,
   "metadata": {},
   "outputs": [],
   "source": [
    "train_data = pd.read_csv(\"house_prices_train.csv\") \n",
    "test_data = pd.read_csv(\"house_prices_test.csv\") "
   ]
  },
  {
   "cell_type": "code",
   "execution_count": 4,
   "metadata": {},
   "outputs": [
    {
     "name": "stdout",
     "output_type": "stream",
     "text": [
      "Shape of train:  (738, 9)\n",
      "Shape of test:  (150, 8)\n"
     ]
    }
   ],
   "source": [
    "print(\"Shape of train: \", train_data.shape)\n",
    "print(\"Shape of test: \", test_data.shape)"
   ]
  },
  {
   "cell_type": "code",
   "execution_count": 5,
   "metadata": {},
   "outputs": [
    {
     "data": {
      "text/plain": [
       "ID                    0\n",
       "Bathrooms           102\n",
       "Bedrooms             21\n",
       "Erf Size            161\n",
       "Garages             288\n",
       "Listing Date          0\n",
       "Price                 2\n",
       "Type of Property      0\n",
       "Location              0\n",
       "dtype: int64"
      ]
     },
     "execution_count": 5,
     "metadata": {},
     "output_type": "execute_result"
    }
   ],
   "source": [
    "train_data.isnull().sum()"
   ]
  },
  {
   "cell_type": "code",
   "execution_count": 6,
   "metadata": {},
   "outputs": [
    {
     "data": {
      "text/html": [
       "<div>\n",
       "<style scoped>\n",
       "    .dataframe tbody tr th:only-of-type {\n",
       "        vertical-align: middle;\n",
       "    }\n",
       "\n",
       "    .dataframe tbody tr th {\n",
       "        vertical-align: top;\n",
       "    }\n",
       "\n",
       "    .dataframe thead th {\n",
       "        text-align: right;\n",
       "    }\n",
       "</style>\n",
       "<table border=\"1\" class=\"dataframe\">\n",
       "  <thead>\n",
       "    <tr style=\"text-align: right;\">\n",
       "      <th></th>\n",
       "      <th>ID</th>\n",
       "      <th>Bathrooms</th>\n",
       "      <th>Bedrooms</th>\n",
       "      <th>Erf Size</th>\n",
       "      <th>Garages</th>\n",
       "      <th>Listing Date</th>\n",
       "      <th>Price</th>\n",
       "      <th>Type of Property</th>\n",
       "      <th>Location</th>\n",
       "    </tr>\n",
       "  </thead>\n",
       "  <tbody>\n",
       "    <tr>\n",
       "      <td>0</td>\n",
       "      <td>1003</td>\n",
       "      <td>4.0</td>\n",
       "      <td>4.0</td>\n",
       "      <td>NaN</td>\n",
       "      <td>2.0</td>\n",
       "      <td>2019-10-28</td>\n",
       "      <td>4299000.0</td>\n",
       "      <td>House</td>\n",
       "      <td>lat: 51.5073509,long: -0.1277583</td>\n",
       "    </tr>\n",
       "    <tr>\n",
       "      <td>1</td>\n",
       "      <td>1011</td>\n",
       "      <td>2.0</td>\n",
       "      <td>3.0</td>\n",
       "      <td>1 733 m²</td>\n",
       "      <td>2.0</td>\n",
       "      <td>2019-06-05</td>\n",
       "      <td>2800000.0</td>\n",
       "      <td>House</td>\n",
       "      <td>lat: 51.5073509,long: -0.1277583</td>\n",
       "    </tr>\n",
       "    <tr>\n",
       "      <td>2</td>\n",
       "      <td>1016</td>\n",
       "      <td>2.0</td>\n",
       "      <td>3.0</td>\n",
       "      <td>987 m²</td>\n",
       "      <td>1.0</td>\n",
       "      <td>2019-10-31</td>\n",
       "      <td>980000.0</td>\n",
       "      <td>House</td>\n",
       "      <td>lat: 51.5073509,long: -0.1277583</td>\n",
       "    </tr>\n",
       "    <tr>\n",
       "      <td>3</td>\n",
       "      <td>1019</td>\n",
       "      <td>2.0</td>\n",
       "      <td>3.0</td>\n",
       "      <td>1 539 m²</td>\n",
       "      <td>2.0</td>\n",
       "      <td>2019-10-14</td>\n",
       "      <td>1795000.0</td>\n",
       "      <td>House</td>\n",
       "      <td>lat: 51.5073509,long: -0.1277583</td>\n",
       "    </tr>\n",
       "    <tr>\n",
       "      <td>4</td>\n",
       "      <td>1029</td>\n",
       "      <td>2.0</td>\n",
       "      <td>3.0</td>\n",
       "      <td>70 m²</td>\n",
       "      <td>NaN</td>\n",
       "      <td>2019-10-02</td>\n",
       "      <td>837780.0</td>\n",
       "      <td>House</td>\n",
       "      <td>lat: 51.5073509,long: -0.1277583</td>\n",
       "    </tr>\n",
       "  </tbody>\n",
       "</table>\n",
       "</div>"
      ],
      "text/plain": [
       "     ID  Bathrooms  Bedrooms  Erf Size  Garages Listing Date      Price  \\\n",
       "0  1003        4.0       4.0       NaN      2.0   2019-10-28  4299000.0   \n",
       "1  1011        2.0       3.0  1 733 m²      2.0   2019-06-05  2800000.0   \n",
       "2  1016        2.0       3.0    987 m²      1.0   2019-10-31   980000.0   \n",
       "3  1019        2.0       3.0  1 539 m²      2.0   2019-10-14  1795000.0   \n",
       "4  1029        2.0       3.0     70 m²      NaN   2019-10-02   837780.0   \n",
       "\n",
       "  Type of Property                          Location  \n",
       "0            House  lat: 51.5073509,long: -0.1277583  \n",
       "1            House  lat: 51.5073509,long: -0.1277583  \n",
       "2            House  lat: 51.5073509,long: -0.1277583  \n",
       "3            House  lat: 51.5073509,long: -0.1277583  \n",
       "4            House  lat: 51.5073509,long: -0.1277583  "
      ]
     },
     "execution_count": 6,
     "metadata": {},
     "output_type": "execute_result"
    }
   ],
   "source": [
    "train_data.head()"
   ]
  },
  {
   "cell_type": "markdown",
   "metadata": {},
   "source": [
    "# Question-1 Data Cleaning"
   ]
  },
  {
   "cell_type": "code",
   "execution_count": 7,
   "metadata": {},
   "outputs": [
    {
     "data": {
      "text/plain": [
       "(738, 5)"
      ]
     },
     "execution_count": 7,
     "metadata": {},
     "output_type": "execute_result"
    }
   ],
   "source": [
    "train_data = train_data.drop(labels=['Erf Size', 'Type of Property', 'Listing Date', 'Location'], axis=1)\n",
    "train_data.shape"
   ]
  },
  {
   "cell_type": "code",
   "execution_count": 8,
   "metadata": {},
   "outputs": [
    {
     "data": {
      "text/plain": [
       "ID             0\n",
       "Bathrooms    102\n",
       "Bedrooms      21\n",
       "Garages      288\n",
       "Price          2\n",
       "dtype: int64"
      ]
     },
     "execution_count": 8,
     "metadata": {},
     "output_type": "execute_result"
    }
   ],
   "source": [
    "train_data.isnull().sum()"
   ]
  },
  {
   "cell_type": "code",
   "execution_count": 9,
   "metadata": {},
   "outputs": [],
   "source": [
    "for col in train_data.columns.values:\n",
    "    missing_values = train_data[col].isnull().sum()\n",
    "    #print(\"{} - missing values: {} ({:0.2f}%)\".format(col, missing_values, missing_values/data_len*100)) \n",
    "    \n",
    "    # drop column if there is more than 50 missing values\n",
    "    if missing_values > 50:\n",
    "        #print(\"droping column: {}\".format(col))\n",
    "        train_data = train_data.drop(col, axis = 1)\n",
    "    # if there is less than 50 missing values than fill in with median valu of column\n",
    "    else:\n",
    "        #print(\"filling missing values with median in column: {}\".format(col))\n",
    "        train_data = train_data.fillna(train_data[col].median())"
   ]
  },
  {
   "cell_type": "code",
   "execution_count": 10,
   "metadata": {},
   "outputs": [
    {
     "data": {
      "text/plain": [
       "ID           0\n",
       "Bathrooms    0\n",
       "Bedrooms     0\n",
       "Garages      0\n",
       "Price        0\n",
       "dtype: int64"
      ]
     },
     "execution_count": 10,
     "metadata": {},
     "output_type": "execute_result"
    }
   ],
   "source": [
    "train_data.isnull().sum()"
   ]
  },
  {
   "cell_type": "code",
   "execution_count": 11,
   "metadata": {},
   "outputs": [
    {
     "data": {
      "text/html": [
       "<div>\n",
       "<style scoped>\n",
       "    .dataframe tbody tr th:only-of-type {\n",
       "        vertical-align: middle;\n",
       "    }\n",
       "\n",
       "    .dataframe tbody tr th {\n",
       "        vertical-align: top;\n",
       "    }\n",
       "\n",
       "    .dataframe thead th {\n",
       "        text-align: right;\n",
       "    }\n",
       "</style>\n",
       "<table border=\"1\" class=\"dataframe\">\n",
       "  <thead>\n",
       "    <tr style=\"text-align: right;\">\n",
       "      <th></th>\n",
       "      <th>ID</th>\n",
       "      <th>Bathrooms</th>\n",
       "      <th>Bedrooms</th>\n",
       "      <th>Garages</th>\n",
       "      <th>Price</th>\n",
       "    </tr>\n",
       "  </thead>\n",
       "  <tbody>\n",
       "    <tr>\n",
       "      <td>0</td>\n",
       "      <td>1003</td>\n",
       "      <td>4.0</td>\n",
       "      <td>4.0</td>\n",
       "      <td>2.0</td>\n",
       "      <td>4299000.0</td>\n",
       "    </tr>\n",
       "    <tr>\n",
       "      <td>1</td>\n",
       "      <td>1011</td>\n",
       "      <td>2.0</td>\n",
       "      <td>3.0</td>\n",
       "      <td>2.0</td>\n",
       "      <td>2800000.0</td>\n",
       "    </tr>\n",
       "    <tr>\n",
       "      <td>2</td>\n",
       "      <td>1016</td>\n",
       "      <td>2.0</td>\n",
       "      <td>3.0</td>\n",
       "      <td>1.0</td>\n",
       "      <td>980000.0</td>\n",
       "    </tr>\n",
       "    <tr>\n",
       "      <td>3</td>\n",
       "      <td>1019</td>\n",
       "      <td>2.0</td>\n",
       "      <td>3.0</td>\n",
       "      <td>2.0</td>\n",
       "      <td>1795000.0</td>\n",
       "    </tr>\n",
       "    <tr>\n",
       "      <td>4</td>\n",
       "      <td>1029</td>\n",
       "      <td>2.0</td>\n",
       "      <td>3.0</td>\n",
       "      <td>2465.5</td>\n",
       "      <td>837780.0</td>\n",
       "    </tr>\n",
       "    <tr>\n",
       "      <td>...</td>\n",
       "      <td>...</td>\n",
       "      <td>...</td>\n",
       "      <td>...</td>\n",
       "      <td>...</td>\n",
       "      <td>...</td>\n",
       "    </tr>\n",
       "    <tr>\n",
       "      <td>733</td>\n",
       "      <td>3980</td>\n",
       "      <td>1.0</td>\n",
       "      <td>2.0</td>\n",
       "      <td>2465.5</td>\n",
       "      <td>880000.0</td>\n",
       "    </tr>\n",
       "    <tr>\n",
       "      <td>734</td>\n",
       "      <td>3985</td>\n",
       "      <td>2465.5</td>\n",
       "      <td>2465.5</td>\n",
       "      <td>2465.5</td>\n",
       "      <td>2750000.0</td>\n",
       "    </tr>\n",
       "    <tr>\n",
       "      <td>735</td>\n",
       "      <td>3991</td>\n",
       "      <td>2.0</td>\n",
       "      <td>3.0</td>\n",
       "      <td>2.0</td>\n",
       "      <td>1895000.0</td>\n",
       "    </tr>\n",
       "    <tr>\n",
       "      <td>736</td>\n",
       "      <td>3996</td>\n",
       "      <td>1.0</td>\n",
       "      <td>2.0</td>\n",
       "      <td>2465.5</td>\n",
       "      <td>230000.0</td>\n",
       "    </tr>\n",
       "    <tr>\n",
       "      <td>737</td>\n",
       "      <td>3999</td>\n",
       "      <td>2.0</td>\n",
       "      <td>4.0</td>\n",
       "      <td>3.0</td>\n",
       "      <td>1850000.0</td>\n",
       "    </tr>\n",
       "  </tbody>\n",
       "</table>\n",
       "<p>738 rows × 5 columns</p>\n",
       "</div>"
      ],
      "text/plain": [
       "       ID  Bathrooms  Bedrooms  Garages      Price\n",
       "0    1003        4.0       4.0      2.0  4299000.0\n",
       "1    1011        2.0       3.0      2.0  2800000.0\n",
       "2    1016        2.0       3.0      1.0   980000.0\n",
       "3    1019        2.0       3.0      2.0  1795000.0\n",
       "4    1029        2.0       3.0   2465.5   837780.0\n",
       "..    ...        ...       ...      ...        ...\n",
       "733  3980        1.0       2.0   2465.5   880000.0\n",
       "734  3985     2465.5    2465.5   2465.5  2750000.0\n",
       "735  3991        2.0       3.0      2.0  1895000.0\n",
       "736  3996        1.0       2.0   2465.5   230000.0\n",
       "737  3999        2.0       4.0      3.0  1850000.0\n",
       "\n",
       "[738 rows x 5 columns]"
      ]
     },
     "execution_count": 11,
     "metadata": {},
     "output_type": "execute_result"
    }
   ],
   "source": [
    "train_data"
   ]
  },
  {
   "cell_type": "code",
   "execution_count": 22,
   "metadata": {},
   "outputs": [
    {
     "data": {
      "text/html": [
       "<div>\n",
       "<style scoped>\n",
       "    .dataframe tbody tr th:only-of-type {\n",
       "        vertical-align: middle;\n",
       "    }\n",
       "\n",
       "    .dataframe tbody tr th {\n",
       "        vertical-align: top;\n",
       "    }\n",
       "\n",
       "    .dataframe thead th {\n",
       "        text-align: right;\n",
       "    }\n",
       "</style>\n",
       "<table border=\"1\" class=\"dataframe\">\n",
       "  <thead>\n",
       "    <tr style=\"text-align: right;\">\n",
       "      <th></th>\n",
       "      <th>ID</th>\n",
       "      <th>Bathrooms</th>\n",
       "      <th>Bedrooms</th>\n",
       "      <th>Garages</th>\n",
       "      <th>Price</th>\n",
       "    </tr>\n",
       "  </thead>\n",
       "  <tbody>\n",
       "    <tr>\n",
       "      <td>count</td>\n",
       "      <td>738.000000</td>\n",
       "      <td>738.000000</td>\n",
       "      <td>738.000000</td>\n",
       "      <td>738.000000</td>\n",
       "      <td>7.380000e+02</td>\n",
       "    </tr>\n",
       "    <tr>\n",
       "      <td>mean</td>\n",
       "      <td>2478.681572</td>\n",
       "      <td>342.569106</td>\n",
       "      <td>73.255420</td>\n",
       "      <td>963.418699</td>\n",
       "      <td>2.026252e+06</td>\n",
       "    </tr>\n",
       "    <tr>\n",
       "      <td>std</td>\n",
       "      <td>869.557030</td>\n",
       "      <td>850.750231</td>\n",
       "      <td>409.686784</td>\n",
       "      <td>1202.480242</td>\n",
       "      <td>2.205559e+06</td>\n",
       "    </tr>\n",
       "    <tr>\n",
       "      <td>min</td>\n",
       "      <td>1.000000</td>\n",
       "      <td>1.000000</td>\n",
       "      <td>1.000000</td>\n",
       "      <td>1.000000</td>\n",
       "      <td>2.465500e+03</td>\n",
       "    </tr>\n",
       "    <tr>\n",
       "      <td>25%</td>\n",
       "      <td>1734.750000</td>\n",
       "      <td>2.000000</td>\n",
       "      <td>2.250000</td>\n",
       "      <td>2.000000</td>\n",
       "      <td>8.800000e+05</td>\n",
       "    </tr>\n",
       "    <tr>\n",
       "      <td>50%</td>\n",
       "      <td>2465.500000</td>\n",
       "      <td>2.000000</td>\n",
       "      <td>3.000000</td>\n",
       "      <td>2.000000</td>\n",
       "      <td>1.399500e+06</td>\n",
       "    </tr>\n",
       "    <tr>\n",
       "      <td>75%</td>\n",
       "      <td>3215.750000</td>\n",
       "      <td>3.000000</td>\n",
       "      <td>4.000000</td>\n",
       "      <td>2465.500000</td>\n",
       "      <td>2.333750e+06</td>\n",
       "    </tr>\n",
       "    <tr>\n",
       "      <td>max</td>\n",
       "      <td>3999.000000</td>\n",
       "      <td>2465.500000</td>\n",
       "      <td>2465.500000</td>\n",
       "      <td>2465.500000</td>\n",
       "      <td>3.000000e+07</td>\n",
       "    </tr>\n",
       "  </tbody>\n",
       "</table>\n",
       "</div>"
      ],
      "text/plain": [
       "                ID    Bathrooms     Bedrooms      Garages         Price\n",
       "count   738.000000   738.000000   738.000000   738.000000  7.380000e+02\n",
       "mean   2478.681572   342.569106    73.255420   963.418699  2.026252e+06\n",
       "std     869.557030   850.750231   409.686784  1202.480242  2.205559e+06\n",
       "min       1.000000     1.000000     1.000000     1.000000  2.465500e+03\n",
       "25%    1734.750000     2.000000     2.250000     2.000000  8.800000e+05\n",
       "50%    2465.500000     2.000000     3.000000     2.000000  1.399500e+06\n",
       "75%    3215.750000     3.000000     4.000000  2465.500000  2.333750e+06\n",
       "max    3999.000000  2465.500000  2465.500000  2465.500000  3.000000e+07"
      ]
     },
     "execution_count": 22,
     "metadata": {},
     "output_type": "execute_result"
    }
   ],
   "source": [
    "train_data.describe()"
   ]
  },
  {
   "cell_type": "markdown",
   "metadata": {},
   "source": [
    "# Question-2 "
   ]
  },
  {
   "cell_type": "code",
   "execution_count": 25,
   "metadata": {},
   "outputs": [
    {
     "name": "stdout",
     "output_type": "stream",
     "text": [
      "Minimum Sale Price : 2465.5\n",
      "Minimum Number of Garage : 1.0\n",
      "First Quartile of Erf Size : 2.0 m2\n",
      "Mean of Bedrooms : 73.255\n"
     ]
    }
   ],
   "source": [
    "print(\"Minimum Sale Price :\", train_data[\"Price\"].min())\n",
    "print(\"Minimum Number of Garage :\", train_data[\"Garages\"].min())\n",
    "print(\"First Quartile of Erf Size : {} m2\".format(train_data[\"Bathrooms\"].quantile(q=0.25)))\n",
    "print(\"Mean of Bedrooms :\", round(train_data[\"Bedrooms\"].mean(), 3))"
   ]
  },
  {
   "cell_type": "markdown",
   "metadata": {},
   "source": [
    "# Creating Linear Regression Model"
   ]
  },
  {
   "cell_type": "code",
   "execution_count": 12,
   "metadata": {},
   "outputs": [],
   "source": [
    "X_train = train_data.iloc[:, :3].values\n",
    "y_train = train_data.iloc[:, 3].values"
   ]
  },
  {
   "cell_type": "code",
   "execution_count": 13,
   "metadata": {},
   "outputs": [],
   "source": [
    "from sklearn.linear_model import LinearRegression\n",
    "linreg = LinearRegression()"
   ]
  },
  {
   "cell_type": "code",
   "execution_count": 14,
   "metadata": {},
   "outputs": [
    {
     "data": {
      "text/plain": [
       "LinearRegression(copy_X=True, fit_intercept=True, n_jobs=None, normalize=False)"
      ]
     },
     "execution_count": 14,
     "metadata": {},
     "output_type": "execute_result"
    }
   ],
   "source": [
    "linreg.fit(X_train, y_train)"
   ]
  },
  {
   "cell_type": "code",
   "execution_count": 15,
   "metadata": {},
   "outputs": [
    {
     "name": "stdout",
     "output_type": "stream",
     "text": [
      "Score :  0.08196131383997984\n"
     ]
    }
   ],
   "source": [
    "print(\"Score : \", linreg.score(X_train, y_train))"
   ]
  },
  {
   "cell_type": "code",
   "execution_count": 28,
   "metadata": {},
   "outputs": [
    {
     "name": "stdout",
     "output_type": "stream",
     "text": [
      "ID : 0.047524107533045264\n",
      "Bathrooms : -0.2952137422857119\n",
      "Bedrooms : 0.8775381496424608\n"
     ]
    }
   ],
   "source": [
    "coeff = linreg.coef_.reshape(-1)\n",
    "\n",
    "for i, j in zip(train_data, coeff):\n",
    "    print(\"{} : {}\".format(i, j))"
   ]
  },
  {
   "cell_type": "markdown",
   "metadata": {},
   "source": [
    "# Testing Model"
   ]
  },
  {
   "cell_type": "code",
   "execution_count": 16,
   "metadata": {},
   "outputs": [
    {
     "data": {
      "text/html": [
       "<div>\n",
       "<style scoped>\n",
       "    .dataframe tbody tr th:only-of-type {\n",
       "        vertical-align: middle;\n",
       "    }\n",
       "\n",
       "    .dataframe tbody tr th {\n",
       "        vertical-align: top;\n",
       "    }\n",
       "\n",
       "    .dataframe thead th {\n",
       "        text-align: right;\n",
       "    }\n",
       "</style>\n",
       "<table border=\"1\" class=\"dataframe\">\n",
       "  <thead>\n",
       "    <tr style=\"text-align: right;\">\n",
       "      <th></th>\n",
       "      <th>ID</th>\n",
       "      <th>Bathrooms</th>\n",
       "      <th>Bedrooms</th>\n",
       "      <th>Erf Size</th>\n",
       "      <th>Garages</th>\n",
       "      <th>Listing Date</th>\n",
       "      <th>Type of Property</th>\n",
       "      <th>Location</th>\n",
       "    </tr>\n",
       "  </thead>\n",
       "  <tbody>\n",
       "    <tr>\n",
       "      <td>0</td>\n",
       "      <td>4001</td>\n",
       "      <td>2.0</td>\n",
       "      <td>2.0</td>\n",
       "      <td>70 m²</td>\n",
       "      <td>NaN</td>\n",
       "      <td>2019-06-03</td>\n",
       "      <td>Apartment / Flat</td>\n",
       "      <td>lat: 51.5073509,long: -0.1277583</td>\n",
       "    </tr>\n",
       "    <tr>\n",
       "      <td>1</td>\n",
       "      <td>4002</td>\n",
       "      <td>1.0</td>\n",
       "      <td>2.0</td>\n",
       "      <td>91 m²</td>\n",
       "      <td>NaN</td>\n",
       "      <td>2019-02-05</td>\n",
       "      <td>Townhouse</td>\n",
       "      <td>lat: 51.5073509,long: -0.1277583</td>\n",
       "    </tr>\n",
       "    <tr>\n",
       "      <td>2</td>\n",
       "      <td>4003</td>\n",
       "      <td>2.0</td>\n",
       "      <td>2.0</td>\n",
       "      <td>72 m²</td>\n",
       "      <td>NaN</td>\n",
       "      <td>2019-05-03</td>\n",
       "      <td>Townhouse</td>\n",
       "      <td>lat: 51.5073509,long: -0.1277583</td>\n",
       "    </tr>\n",
       "    <tr>\n",
       "      <td>3</td>\n",
       "      <td>4007</td>\n",
       "      <td>4.0</td>\n",
       "      <td>4.0</td>\n",
       "      <td>265 m²</td>\n",
       "      <td>2.0</td>\n",
       "      <td>2019-02-12</td>\n",
       "      <td>House</td>\n",
       "      <td>lat: 51.5073509,long: -0.1277583</td>\n",
       "    </tr>\n",
       "    <tr>\n",
       "      <td>4</td>\n",
       "      <td>4016</td>\n",
       "      <td>2.0</td>\n",
       "      <td>3.0</td>\n",
       "      <td>213 m²</td>\n",
       "      <td>2.0</td>\n",
       "      <td>2018-08-07</td>\n",
       "      <td>Townhouse</td>\n",
       "      <td>lat: 51.5073509,long: -0.1277583</td>\n",
       "    </tr>\n",
       "    <tr>\n",
       "      <td>...</td>\n",
       "      <td>...</td>\n",
       "      <td>...</td>\n",
       "      <td>...</td>\n",
       "      <td>...</td>\n",
       "      <td>...</td>\n",
       "      <td>...</td>\n",
       "      <td>...</td>\n",
       "      <td>...</td>\n",
       "    </tr>\n",
       "    <tr>\n",
       "      <td>145</td>\n",
       "      <td>4572</td>\n",
       "      <td>1.0</td>\n",
       "      <td>2.0</td>\n",
       "      <td>2 000 m²</td>\n",
       "      <td>NaN</td>\n",
       "      <td>2019-07-02</td>\n",
       "      <td>House</td>\n",
       "      <td>lat: 51.5073509,long: -0.1277583</td>\n",
       "    </tr>\n",
       "    <tr>\n",
       "      <td>146</td>\n",
       "      <td>4575</td>\n",
       "      <td>2.0</td>\n",
       "      <td>4.0</td>\n",
       "      <td>NaN</td>\n",
       "      <td>2.0</td>\n",
       "      <td>2017-10-17</td>\n",
       "      <td>House</td>\n",
       "      <td>lat: 51.5073509,long: -0.1277583</td>\n",
       "    </tr>\n",
       "    <tr>\n",
       "      <td>147</td>\n",
       "      <td>4580</td>\n",
       "      <td>1.0</td>\n",
       "      <td>2.0</td>\n",
       "      <td>NaN</td>\n",
       "      <td>NaN</td>\n",
       "      <td>2017-11-29</td>\n",
       "      <td>Townhouse</td>\n",
       "      <td>lat: 51.5073509,long: -0.1277583</td>\n",
       "    </tr>\n",
       "    <tr>\n",
       "      <td>148</td>\n",
       "      <td>4592</td>\n",
       "      <td>2.0</td>\n",
       "      <td>3.0</td>\n",
       "      <td>1 016 m²</td>\n",
       "      <td>2.0</td>\n",
       "      <td>2019-04-25</td>\n",
       "      <td>House</td>\n",
       "      <td>lat: 51.5073509,long: -0.1277583</td>\n",
       "    </tr>\n",
       "    <tr>\n",
       "      <td>149</td>\n",
       "      <td>4595</td>\n",
       "      <td>2.0</td>\n",
       "      <td>3.0</td>\n",
       "      <td>995 m²</td>\n",
       "      <td>2.0</td>\n",
       "      <td>2018-04-23</td>\n",
       "      <td>House</td>\n",
       "      <td>lat: 51.5073509,long: -0.1277583</td>\n",
       "    </tr>\n",
       "  </tbody>\n",
       "</table>\n",
       "<p>150 rows × 8 columns</p>\n",
       "</div>"
      ],
      "text/plain": [
       "       ID  Bathrooms  Bedrooms  Erf Size  Garages Listing Date  \\\n",
       "0    4001        2.0       2.0     70 m²      NaN   2019-06-03   \n",
       "1    4002        1.0       2.0     91 m²      NaN   2019-02-05   \n",
       "2    4003        2.0       2.0     72 m²      NaN   2019-05-03   \n",
       "3    4007        4.0       4.0    265 m²      2.0   2019-02-12   \n",
       "4    4016        2.0       3.0    213 m²      2.0   2018-08-07   \n",
       "..    ...        ...       ...       ...      ...          ...   \n",
       "145  4572        1.0       2.0  2 000 m²      NaN   2019-07-02   \n",
       "146  4575        2.0       4.0       NaN      2.0   2017-10-17   \n",
       "147  4580        1.0       2.0       NaN      NaN   2017-11-29   \n",
       "148  4592        2.0       3.0  1 016 m²      2.0   2019-04-25   \n",
       "149  4595        2.0       3.0    995 m²      2.0   2018-04-23   \n",
       "\n",
       "     Type of Property                          Location  \n",
       "0    Apartment / Flat  lat: 51.5073509,long: -0.1277583  \n",
       "1           Townhouse  lat: 51.5073509,long: -0.1277583  \n",
       "2           Townhouse  lat: 51.5073509,long: -0.1277583  \n",
       "3               House  lat: 51.5073509,long: -0.1277583  \n",
       "4           Townhouse  lat: 51.5073509,long: -0.1277583  \n",
       "..                ...                               ...  \n",
       "145             House  lat: 51.5073509,long: -0.1277583  \n",
       "146             House  lat: 51.5073509,long: -0.1277583  \n",
       "147         Townhouse  lat: 51.5073509,long: -0.1277583  \n",
       "148             House  lat: 51.5073509,long: -0.1277583  \n",
       "149             House  lat: 51.5073509,long: -0.1277583  \n",
       "\n",
       "[150 rows x 8 columns]"
      ]
     },
     "execution_count": 16,
     "metadata": {},
     "output_type": "execute_result"
    }
   ],
   "source": [
    "test_data"
   ]
  },
  {
   "cell_type": "code",
   "execution_count": 17,
   "metadata": {},
   "outputs": [
    {
     "data": {
      "text/plain": [
       "(150, 4)"
      ]
     },
     "execution_count": 17,
     "metadata": {},
     "output_type": "execute_result"
    }
   ],
   "source": [
    "test_data = test_data.drop(labels=['Erf Size', 'Type of Property', 'Listing Date', 'Location'], axis=1)\n",
    "test_data.shape"
   ]
  },
  {
   "cell_type": "code",
   "execution_count": 18,
   "metadata": {},
   "outputs": [],
   "source": [
    "for col in test_data.columns.values:\n",
    "    missing_values = test_data[col].isnull().sum()\n",
    "    #print(\"{} - missing values: {} ({:0.2f}%)\".format(col, missing_values, missing_values/data_len*100)) \n",
    "    \n",
    "    # drop column if there is more than 50 missing values\n",
    "    if missing_values > 50:\n",
    "        #print(\"droping column: {}\".format(col))\n",
    "        test_data = train_data.drop(col, axis = 1)\n",
    "    # if there is less than 50 missing values than fill in with median valu of column\n",
    "    else:\n",
    "        #print(\"filling missing values with median in column: {}\".format(col))\n",
    "        test_data = test_data.fillna(test_data[col].median())"
   ]
  },
  {
   "cell_type": "code",
   "execution_count": 19,
   "metadata": {},
   "outputs": [
    {
     "data": {
      "text/html": [
       "<div>\n",
       "<style scoped>\n",
       "    .dataframe tbody tr th:only-of-type {\n",
       "        vertical-align: middle;\n",
       "    }\n",
       "\n",
       "    .dataframe tbody tr th {\n",
       "        vertical-align: top;\n",
       "    }\n",
       "\n",
       "    .dataframe thead th {\n",
       "        text-align: right;\n",
       "    }\n",
       "</style>\n",
       "<table border=\"1\" class=\"dataframe\">\n",
       "  <thead>\n",
       "    <tr style=\"text-align: right;\">\n",
       "      <th></th>\n",
       "      <th>ID</th>\n",
       "      <th>Bathrooms</th>\n",
       "      <th>Bedrooms</th>\n",
       "      <th>Garages</th>\n",
       "    </tr>\n",
       "  </thead>\n",
       "  <tbody>\n",
       "    <tr>\n",
       "      <td>0</td>\n",
       "      <td>4001</td>\n",
       "      <td>2.0</td>\n",
       "      <td>2.0</td>\n",
       "      <td>4273.0</td>\n",
       "    </tr>\n",
       "    <tr>\n",
       "      <td>1</td>\n",
       "      <td>4002</td>\n",
       "      <td>1.0</td>\n",
       "      <td>2.0</td>\n",
       "      <td>4273.0</td>\n",
       "    </tr>\n",
       "    <tr>\n",
       "      <td>2</td>\n",
       "      <td>4003</td>\n",
       "      <td>2.0</td>\n",
       "      <td>2.0</td>\n",
       "      <td>4273.0</td>\n",
       "    </tr>\n",
       "    <tr>\n",
       "      <td>3</td>\n",
       "      <td>4007</td>\n",
       "      <td>4.0</td>\n",
       "      <td>4.0</td>\n",
       "      <td>2.0</td>\n",
       "    </tr>\n",
       "    <tr>\n",
       "      <td>4</td>\n",
       "      <td>4016</td>\n",
       "      <td>2.0</td>\n",
       "      <td>3.0</td>\n",
       "      <td>2.0</td>\n",
       "    </tr>\n",
       "    <tr>\n",
       "      <td>...</td>\n",
       "      <td>...</td>\n",
       "      <td>...</td>\n",
       "      <td>...</td>\n",
       "      <td>...</td>\n",
       "    </tr>\n",
       "    <tr>\n",
       "      <td>145</td>\n",
       "      <td>4572</td>\n",
       "      <td>1.0</td>\n",
       "      <td>2.0</td>\n",
       "      <td>4273.0</td>\n",
       "    </tr>\n",
       "    <tr>\n",
       "      <td>146</td>\n",
       "      <td>4575</td>\n",
       "      <td>2.0</td>\n",
       "      <td>4.0</td>\n",
       "      <td>2.0</td>\n",
       "    </tr>\n",
       "    <tr>\n",
       "      <td>147</td>\n",
       "      <td>4580</td>\n",
       "      <td>1.0</td>\n",
       "      <td>2.0</td>\n",
       "      <td>4273.0</td>\n",
       "    </tr>\n",
       "    <tr>\n",
       "      <td>148</td>\n",
       "      <td>4592</td>\n",
       "      <td>2.0</td>\n",
       "      <td>3.0</td>\n",
       "      <td>2.0</td>\n",
       "    </tr>\n",
       "    <tr>\n",
       "      <td>149</td>\n",
       "      <td>4595</td>\n",
       "      <td>2.0</td>\n",
       "      <td>3.0</td>\n",
       "      <td>2.0</td>\n",
       "    </tr>\n",
       "  </tbody>\n",
       "</table>\n",
       "<p>150 rows × 4 columns</p>\n",
       "</div>"
      ],
      "text/plain": [
       "       ID  Bathrooms  Bedrooms  Garages\n",
       "0    4001        2.0       2.0   4273.0\n",
       "1    4002        1.0       2.0   4273.0\n",
       "2    4003        2.0       2.0   4273.0\n",
       "3    4007        4.0       4.0      2.0\n",
       "4    4016        2.0       3.0      2.0\n",
       "..    ...        ...       ...      ...\n",
       "145  4572        1.0       2.0   4273.0\n",
       "146  4575        2.0       4.0      2.0\n",
       "147  4580        1.0       2.0   4273.0\n",
       "148  4592        2.0       3.0      2.0\n",
       "149  4595        2.0       3.0      2.0\n",
       "\n",
       "[150 rows x 4 columns]"
      ]
     },
     "execution_count": 19,
     "metadata": {},
     "output_type": "execute_result"
    }
   ],
   "source": [
    "test_data"
   ]
  },
  {
   "cell_type": "code",
   "execution_count": 20,
   "metadata": {},
   "outputs": [],
   "source": [
    "X_test = test_data.iloc[:, :3].values\n",
    "y_test = test_data.iloc[:, 3].values"
   ]
  },
  {
   "cell_type": "code",
   "execution_count": 21,
   "metadata": {},
   "outputs": [
    {
     "data": {
      "text/plain": [
       "array([1073.7768546 , 1074.11959245, 1073.87190281, 1075.22664806,\n",
       "       1075.36725436, -185.11044608, 1077.39740621, 1075.39267426,\n",
       "       1076.90006092, 1075.78293621, 1080.26567518, 1077.5058392 ,\n",
       "       -182.37946774, 1077.10550815, 1077.5888523 , 1078.21870081,\n",
       "       -181.00126862, 1078.49181034, 1081.30641814, 1078.72943088,\n",
       "       1079.88204458, 1080.51189309, 1080.65446541, 1079.63238892,\n",
       "       1081.0265552 , 1081.12970649, 1081.51996845, 1080.73747851,\n",
       "       -180.02536657, 1081.16519548, -180.52271186, -179.50260139,\n",
       "       1081.40281602, 1081.73548477, 1082.41285739, 1081.97310531,\n",
       "       1083.56743711, 1081.42823591, 1081.77097376, 1082.40082228,\n",
       "       1081.96107019, 1082.73349103, 1082.97111157, 3569.29616545,\n",
       "       1082.6264077 , 1083.83858062, 1083.39882853, -177.31649244,\n",
       "       1082.94900735, 1083.62441396, -176.4135344 , 3570.72188868,\n",
       "       1083.95708271, 1084.68197944, 1084.33727557, 1084.96712408,\n",
       "       1085.97913148, -175.55810047, 1085.77503391, 1085.28775772,\n",
       "       -174.89276296, 1085.43033004, -174.60761832, 1086.29779909,\n",
       "       1085.70540559, 1087.5555301 , 1086.14319165, 1086.82056428,\n",
       "       1086.86808838, 1087.4979369 , 1087.44844677, 1086.71348095,\n",
       "       -172.63702569, 1086.80852916, 1086.85605327, 1087.42830858,\n",
       "       -171.97168819, 1087.36874935, 1088.47187292, 3575.42677532,\n",
       "       1088.947114  , 1090.45450066, 1089.62448662, 1090.59707299,\n",
       "       3575.99706462, 1090.29179015, -169.92815156, 1089.51740329,\n",
       "       1095.24363313, 1090.7751343 , 1090.03009938, 1091.58501015,\n",
       "       1090.56293366, 1091.33535449, 1092.45051318, 1091.62049914,\n",
       "       1092.5455614 , 1092.000692  , 1092.14326432, 1092.91568516,\n",
       "       1091.84608456, 1092.37081576, -166.38926339, 1093.8287123 ,\n",
       "       1093.293912  , 1093.56898755, 1094.4940498 , 1093.46190421,\n",
       "       -168.52121687, 1094.23432505, 1094.28184916, 1093.93714529,\n",
       "       3581.17719234, 1094.6024828 , 1095.23233131, 1094.63993781,\n",
       "       1094.10513751, 1095.89766882, 3582.27024681, 1096.9653034 ,\n",
       "       1096.13528935, 1098.0977789 , 3583.50587361, -164.3645153 ,\n",
       "       1098.38095752, 1098.46593664, 3584.69397629, 1098.4044114 ,\n",
       "       1099.31940456, 1098.92717658, 1099.99481116, 1099.98474206,\n",
       "       1100.41245903, -160.30286195, 1101.52761772, 3586.92760935,\n",
       "       3587.11770578, 1101.22233488, -159.87514498, 3587.40285042,\n",
       "       1100.68556856, 1101.36294118, -155.79470309, 1100.72302357,\n",
       "       1100.81807179, 1101.20833374, 1102.81076862, 1101.5885266 ,\n",
       "       1102.7411403 , 1102.88371262])"
      ]
     },
     "execution_count": 21,
     "metadata": {},
     "output_type": "execute_result"
    }
   ],
   "source": [
    "y_pred = linreg.predict(X_test)\n",
    "y_pred"
   ]
  },
  {
   "cell_type": "code",
   "execution_count": null,
   "metadata": {},
   "outputs": [],
   "source": []
  }
 ],
 "metadata": {
  "kernelspec": {
   "display_name": "Python 3",
   "language": "python",
   "name": "python3"
  },
  "language_info": {
   "codemirror_mode": {
    "name": "ipython",
    "version": 3
   },
   "file_extension": ".py",
   "mimetype": "text/x-python",
   "name": "python",
   "nbconvert_exporter": "python",
   "pygments_lexer": "ipython3",
   "version": "3.7.4"
  }
 },
 "nbformat": 4,
 "nbformat_minor": 2
}
